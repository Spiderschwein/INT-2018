{
 "cells": [
  {
   "cell_type": "markdown",
   "metadata": {
    "_uuid": "5ab83558379bb12b8d52fa3057918a270a3f6c77"
   },
   "source": [
    "## Simple Searching\n",
    "\n",
    "Wir lernen eine ziemlich universelle Methoden kennen, um Probleme zu lösen (nun ja, zumindest, es zu versuchen ;). Die grobe Idee ist einfach: Die Welt befindet sich zu jedem Betrachtungszeitpunkt (diskret, endlich viele!) in einem Zustand. Jeder Zustand läßt sich über endlich viele Elemente und Beziehungen zwischen diesen Elementen beschreiben. Sehr oft reichen endlich viele Werte, um die Zustände der Elemente und Beziehungen zu beschreiben (Reality check: immer!). Es gibt Operationen, die Operatoren instantiieren, um von einem Zustand zu einem Folgezustand überzugehen. Auch hier gehen wir von nur endlich vielen Operationen aus, die möglich bzw. plausibel sind. Nun können wir einen Startzustand angeben und einen Endzustand (oder eine Menge von Endzuständen). Die Lösung des Problems können wir nun durch Suche nach einem Weg vom Startzustand zu einem Endzustand finden.\n",
    "\n",
    "*Beispiel*: **Kannibalen/Missionarsproblem**\n",
    "\n",
    "Auf der westlichen Seite eines Flusses, der von Norden nach Süden fließt, befinden sich 3 Missionare, 3 Kannibalen und ein Boot für 1-2 Personen. Das Boot ist nicht selbstfahrend, ohne Fahrer treibt es ab und ist verloren!\n",
    "\n",
    "Ihre Aufgabe ist es nun, die 3 Missionare und die 3 Kannibalen mit dem Boot vollständig auf die östliche Seite überzusetzen. Dabei müssen Sie die folgende Nebenbedingung beachten: sollten auf irgendeiner Seite des Flusses (die Besatzung im Boot zählt mit, sobald dieses in Ufernähe ist!) die Kannibalen einmal in der Überzahl sein, so werden die Missionare dort gefressen! Das ist dann kein gültiger Lösungsweg!\n",
    "\n",
    "*Problemrepräsentierung*:\n",
    "\n",
    "Wir beschreiben das Problem über Zustände $(m,k,b)$. Hierbei gibt $m$ die Anzahl der Missionare und $k$ die der Kannibalen auf der westlichen Seite des Flusses an, $b = 1$ sagt: das Boot ist auf der westlichen Seite, $b = 0$ sagt: das Boot ist auf der östlichen Seite des Flusses.\n",
    "\n",
    "Der Startzustand ist $(3,3,1)$ (Alles ist westlich), der gewünschte Endzustand ist $(0,0,0)$ (Alles ist östlich).\n",
    "\n",
    "Wir können das Boot fahren lassen, in dem wir Kannibalen und/oder Missionare ins Boot setzen. Wir gehen davon aus, dass die alle freiwillig zur anderen Seite fahren ;)\n",
    "\n",
    "Zu einem Zustand $(m_1,k_1,b_1)$ ergeben sich denkbare Folgezustände durch die technisch möglichen Fahroperation. Erklären wir das per Beispiel (und zeigen es dann exakt als Programmcode):\n",
    "\n",
    "$(3,3,1)$ hat die \"denkbaren\" Folgezustände $(2,2,0)$, $(2,3,0)$, $(3,2,0)$, $(1,3,0)$, $(3,1,0)$. Hier entsteht z.B. $(2,2,0)$ aus der Operation \"Lasse 1 Missionar und 1 Kannibalen mit dem Boot auf die andere Seite fahren\" (die Richtung ergibt sich automatisch aus der Position des Bootes, deren Angabe können wir uns also sparen).\n",
    "\n",
    "Manche der Folgezustände, die eintreten bzw. eintreten würden, sind nicht *valide*, oben sind es $(1,3,0)$ und $(2,3,0)$ (wir sollten also tunlichst nicht einen oder zwei Missionare allein auf die andere Seite schicken).\n",
    "\n",
    "Generell darf westlich kein Zustand $(m,k,?)$ eintreten mit $0 < m < k$, und östlich, also für $(m,k,?)$, keiner mit $k < m < 3$ (die Lage des Bootes ist hier egal, ob das nun gerade im Westen oder Osten liegt, ist irrelevant dafür, ob der Zustand invalide ist, deshalb haben wir ein ? angegeben).\n",
    "\n",
    "Das Ganze müssen wir jetzt noch mit einer systematischen Suche kombinieren, dann können wir das Problem lösen! Machen wir das:"
   ]
  },
  {
   "cell_type": "code",
   "execution_count": 1,
   "metadata": {
    "_uuid": "35ea33d1e47bbed77d84616adcacffc23c01ca64"
   },
   "outputs": [
    {
     "name": "stdout",
     "output_type": "stream",
     "text": [
      "[[2, 2, 0], [3, 1, 0], [3, 2, 0], [1, 3, 0], [2, 3, 0]]\n",
      "[[3, 3, 1], [2, 3, 1], [3, 2, 1]]\n",
      "[[1, 1, 0], [2, 0, 0], [2, 1, 0], [0, 2, 0], [1, 2, 0]]\n",
      "[[2, 2, 1], [1, 3, 1], [1, 2, 1], [3, 1, 1], [2, 1, 1]]\n",
      "[[0, 0, 0], [1, 0, 0], [0, 1, 0]]\n"
     ]
    }
   ],
   "source": [
    "startzustand = [3,3,1]\n",
    "zielzustand  = [0,0,0]\n",
    "\n",
    "# Erzeuge alle denkbaren Folgezustände, wir schauen nicht auf feasibility\n",
    "# Wir geben eine Liste von Listen (den Zuständen) zurück\n",
    "def gib_folgezustaende(zustand):\n",
    "    result = []\n",
    "    m,k,b = zustand\n",
    "    b_new = 0 if b else 1    \n",
    "    # now try all potential operations\n",
    "    # Let's keep it simple for now:\n",
    "    if b:\n",
    "        if k > 0:\n",
    "            if m > 0:\n",
    "                result.append([m-1,k-1,b_new])\n",
    "            if k > 1:\n",
    "                result.append([m,k-2,b_new])\n",
    "            result.append([m,k-1,b_new])       \n",
    "        if m > 1:\n",
    "            result.append([m-2,k,b_new])\n",
    "        if m > 0:\n",
    "            result.append([m-1,k,b_new]) \n",
    "    if not b:\n",
    "        if k < 3:\n",
    "            if m < 3:\n",
    "                result.append([m+1,k+1,b_new])\n",
    "            if k < 2:\n",
    "                result.append([m,k+2,b_new])\n",
    "            result.append([m,k+1,b_new])       \n",
    "        if m < 2:\n",
    "            result.append([m+2,k,b_new])\n",
    "        if m < 3:\n",
    "            result.append([m+1,k,b_new])\n",
    "            \n",
    "    return result\n",
    "\n",
    "## Some tests\n",
    "print(gib_folgezustaende([3,3,1]))            \n",
    "print(gib_folgezustaende([2,2,0]))\n",
    "print(gib_folgezustaende([2,2,1]))\n",
    "print(gib_folgezustaende([1,1,0]))\n",
    "print(gib_folgezustaende([1,1,1]))"
   ]
  },
  {
   "cell_type": "code",
   "execution_count": 2,
   "metadata": {
    "_uuid": "12dbdfa06a9d9ae50c1893efe983ae40b7ab8e64"
   },
   "outputs": [
    {
     "name": "stdout",
     "output_type": "stream",
     "text": [
      "[[2, 2, 0], [3, 1, 0], [3, 2, 0]]\n",
      "[[3, 3, 1], [3, 2, 1]]\n",
      "[[1, 1, 0], [0, 2, 0]]\n",
      "[[2, 2, 1], [3, 1, 1]]\n",
      "[[0, 0, 0], [0, 1, 0]]\n"
     ]
    }
   ],
   "source": [
    "## Jetzt checken wir noch, ob die Zustände valide sind!\n",
    "def is_valid(zustand):\n",
    "    m,k,b = zustand\n",
    "    # es gibt im Westen mehr Kannibalen, als Missionare\n",
    "    if m < k and m > 0: return False \n",
    "    # es gibt im Osten mehr Kannibalen, als Missionare\n",
    "    if m > k and m < 3: return False\n",
    "    return True\n",
    "\n",
    "def gib_valide_folgezustaende(zustand):\n",
    "    return [z for z in gib_folgezustaende(zustand) if is_valid(z)]\n",
    "\n",
    "# Some tests\n",
    "print(gib_valide_folgezustaende([3,3,1]))            \n",
    "print(gib_valide_folgezustaende([2,2,0]))\n",
    "print(gib_valide_folgezustaende([2,2,1]))\n",
    "print(gib_valide_folgezustaende([1,1,0]))\n",
    "print(gib_valide_folgezustaende([1,1,1]))"
   ]
  },
  {
   "cell_type": "markdown",
   "metadata": {
    "_uuid": "ff483ab9cb8910a81ceb74d1241c75518890edcf"
   },
   "source": [
    "Erklären wir das einmal ein wenig:\n",
    "\n",
    "Die \"denkbaren\" Folgezustände zu $[1,1,0]$ können wir wie folgt finden: das Boot liegt im Osten, wir haben im Westen 1 Missionar und 1 Kannibalen, im Osten 2 Missionare und 2 Kannibalen. Wir können also 1M1K, 2M, 2K, 1K und 1M von Osten nach Westen fahren lassen, insgesamt also:\n",
    "\n",
    "$[[2, 2, 1], [3, 1, 1], [2, 1, 1], [1, 3, 1], [1, 2, 1]]$\n",
    "\n",
    "Lassen wir nur einen Missionar fahren, dann sind im Osten zuviele Kannibalen. \n",
    "\n",
    "Lassen wir einen oder zwei Kannibalen fahren, dann sind im Westen zuviele Kannibalen.\n",
    "\n",
    "Valide Folgezustände zu $[1,1,0]$ sind also $[[2, 2, 1], [3, 1, 1]]$.\n",
    "\n",
    "Verwenden wir das nun, um das Problem mit Suche zu lösen. Wir versuchen hier zunächst in die Tiefe zu laufen. Was wir noch tun sollten,  ist, Zustände zu vermeiden, die wir schon einmal auf dem bisher zurückgelegten Weg besucht hatten (denken Sie dran: wir könnten beliebig oft hin und her fahren, wenn wir ein valide Operation gefunden haben...)."
   ]
  },
  {
   "cell_type": "code",
   "execution_count": 3,
   "metadata": {
    "_uuid": "e502b759f306253f7ed9eb15967284902adef0c3"
   },
   "outputs": [
    {
     "name": "stdout",
     "output_type": "stream",
     "text": [
      " [3, 3, 1]  ->   [[2, 2, 0], [3, 1, 0], [3, 2, 0]]\n",
      "  [2, 2, 0]  ->   [[3, 3, 1], [3, 2, 1]]\n",
      "  repeated [3, 3, 1]\n",
      "   [3, 2, 1]  ->   [[3, 0, 0], [3, 1, 0], [2, 2, 0]]\n",
      "    [3, 0, 0]  ->   [[3, 2, 1], [3, 1, 1]]\n",
      "    repeated [3, 2, 1]\n",
      "     [3, 1, 1]  ->   [[3, 0, 0], [1, 1, 0]]\n",
      "     repeated [3, 0, 0]\n",
      "      [1, 1, 0]  ->   [[2, 2, 1], [3, 1, 1]]\n",
      "       [2, 2, 1]  ->   [[1, 1, 0], [0, 2, 0]]\n",
      "       repeated [1, 1, 0]\n",
      "        [0, 2, 0]  ->   [[0, 3, 1], [2, 2, 1]]\n",
      "         [0, 3, 1]  ->   [[0, 1, 0], [0, 2, 0]]\n",
      "          [0, 1, 0]  ->   [[0, 3, 1], [0, 2, 1], [1, 1, 1]]\n",
      "          repeated [0, 3, 1]\n",
      "           [0, 2, 1]  ->   [[0, 0, 0], [0, 1, 0]]\n",
      "            [0, 0, 0]  ->"
     ]
    },
    {
     "data": {
      "text/plain": [
       "(True,\n",
       " [[3, 3, 1],\n",
       "  [2, 2, 0],\n",
       "  [3, 2, 1],\n",
       "  [3, 0, 0],\n",
       "  [3, 1, 1],\n",
       "  [1, 1, 0],\n",
       "  [2, 2, 1],\n",
       "  [0, 2, 0],\n",
       "  [0, 3, 1],\n",
       "  [0, 1, 0],\n",
       "  [0, 2, 1],\n",
       "  [0, 0, 0]])"
      ]
     },
     "execution_count": 3,
     "metadata": {},
     "output_type": "execute_result"
    }
   ],
   "source": [
    "# Rekursive Suche in die Tiefe (depth-first search with chronolocigal backtracking)\n",
    "def suche(zustand,history,all_solutions=False,level=0,debug=1):\n",
    "    if debug: print(level*' ',zustand,\" ->\",end=\"\")\n",
    "        \n",
    "    # if compare(zustand,zielzustand): return (True,history+[zustand])\n",
    "    if zustand == zielzustand: return (True,history+[zustand])\n",
    "    fzustaende = gib_valide_folgezustaende(zustand)\n",
    "    \n",
    "    if debug: print(\"  \",fzustaende)\n",
    "        \n",
    "    if not len(fzustaende): return (False,[])\n",
    "    for z in fzustaende:\n",
    "        if z not in history+zustand:\n",
    "            res1,res2 = suche(z,history+[zustand],all_solutions,level+1,debug)\n",
    "            if res1: \n",
    "                if all_solutions:\n",
    "                    print(\"Solution found: \",res1,res2)\n",
    "                else:\n",
    "                    return (res1,res2) # Just stop\n",
    "        else:\n",
    "            if debug == 2: print((level+1)*' '+\"repeated\",z)\n",
    "    return (False,[])\n",
    "\n",
    "suche(startzustand,[], all_solutions=False, debug=2) # One solution"
   ]
  },
  {
   "cell_type": "code",
   "execution_count": 4,
   "metadata": {
    "_uuid": "f905d0040a519d771172d442675a7215e7565c7a"
   },
   "outputs": [
    {
     "name": "stdout",
     "output_type": "stream",
     "text": [
      "Solution found:  True [[3, 3, 1], [2, 2, 0], [3, 2, 1], [3, 0, 0], [3, 1, 1], [1, 1, 0], [2, 2, 1], [0, 2, 0], [0, 3, 1], [0, 1, 0], [0, 2, 1], [0, 0, 0]]\n",
      "Solution found:  True [[3, 3, 1], [2, 2, 0], [3, 2, 1], [3, 0, 0], [3, 1, 1], [1, 1, 0], [2, 2, 1], [0, 2, 0], [0, 3, 1], [0, 1, 0], [1, 1, 1], [0, 0, 0]]\n",
      "Solution found:  True [[3, 3, 1], [3, 1, 0], [3, 2, 1], [3, 0, 0], [3, 1, 1], [1, 1, 0], [2, 2, 1], [0, 2, 0], [0, 3, 1], [0, 1, 0], [0, 2, 1], [0, 0, 0]]\n",
      "Solution found:  True [[3, 3, 1], [3, 1, 0], [3, 2, 1], [3, 0, 0], [3, 1, 1], [1, 1, 0], [2, 2, 1], [0, 2, 0], [0, 3, 1], [0, 1, 0], [1, 1, 1], [0, 0, 0]]\n"
     ]
    },
    {
     "data": {
      "text/plain": [
       "(False, [])"
      ]
     },
     "execution_count": 4,
     "metadata": {},
     "output_type": "execute_result"
    }
   ],
   "source": [
    "# All solutions, debugging disabled\n",
    "suche(startzustand,[],all_solutions=True,debug=0)"
   ]
  },
  {
   "cell_type": "code",
   "execution_count": 5,
   "metadata": {
    "_uuid": "a3d12943b5c94450b8a5be1125d534a85d0f0942"
   },
   "outputs": [
    {
     "name": "stdout",
     "output_type": "stream",
     "text": [
      "[[2, 2, 0], [2, 3, 0], [3, 2, 0], [1, 3, 0], [3, 1, 0]]\n",
      "[[3, 3, 1], [3, 2, 1], [2, 3, 1]]\n",
      "[[1, 1, 0], [1, 2, 0], [2, 1, 0], [0, 2, 0], [2, 0, 0]]\n",
      "[[2, 2, 1], [2, 1, 1], [1, 2, 1], [3, 1, 1], [1, 3, 1]]\n",
      "[[0, 0, 0], [0, 1, 0], [1, 0, 0]]\n"
     ]
    }
   ],
   "source": [
    "## Noch nicht besonders schön ist die Funktion für die Folgezustände\n",
    "## Gestalten wir die ein wenig knapper und sehen gleich einen\n",
    "### Maximalwert für die Anzahl vor\n",
    "### Um es später leichter verwenden zu können, geben wir den Wert\n",
    "### global vor\n",
    "max_value = 3\n",
    "\n",
    "def gib_folgezustaende(zustand):\n",
    "    global max_value\n",
    "    m,k,b = zustand\n",
    "    incr  = -1 if b else +1\n",
    "    b_new = 0 if b else 1\n",
    "    \n",
    "    fzustaende = [\n",
    "        [m+incr,k+incr,b_new],\n",
    "        [m+incr,k,b_new],\n",
    "        [m,k+incr,b_new],\n",
    "        [m+incr*2,k,b_new],\n",
    "        [m,k+incr*2,b_new]\n",
    "    ]\n",
    "    # Entferne alle, die für m bzw. k kleiner 0 oder größer 3 sind\n",
    "    return [[k,m,b] for k,m,b in fzustaende \n",
    "                if k >= 0 and k <= max_value and m >= 0 and m <= max_value]\n",
    "\n",
    "## Some tests\n",
    "print(gib_folgezustaende([3,3,1]))            \n",
    "print(gib_folgezustaende([2,2,0]))\n",
    "print(gib_folgezustaende([2,2,1]))\n",
    "print(gib_folgezustaende([1,1,0]))\n",
    "print(gib_folgezustaende([1,1,1]))"
   ]
  },
  {
   "cell_type": "code",
   "execution_count": 6,
   "metadata": {
    "_uuid": "056246c338bb0158aa0a893d16f923c7a444ce16"
   },
   "outputs": [
    {
     "name": "stdout",
     "output_type": "stream",
     "text": [
      "Solution found:  True [[3, 3, 1], [2, 2, 0], [3, 2, 1], [3, 0, 0], [3, 1, 1], [1, 1, 0], [2, 2, 1], [0, 2, 0], [0, 3, 1], [0, 1, 0], [1, 1, 1], [0, 0, 0]]\n",
      "Solution found:  True [[3, 3, 1], [2, 2, 0], [3, 2, 1], [3, 0, 0], [3, 1, 1], [1, 1, 0], [2, 2, 1], [0, 2, 0], [0, 3, 1], [0, 1, 0], [0, 2, 1], [0, 0, 0]]\n",
      "Solution found:  True [[3, 3, 1], [3, 1, 0], [3, 2, 1], [3, 0, 0], [3, 1, 1], [1, 1, 0], [2, 2, 1], [0, 2, 0], [0, 3, 1], [0, 1, 0], [1, 1, 1], [0, 0, 0]]\n",
      "Solution found:  True [[3, 3, 1], [3, 1, 0], [3, 2, 1], [3, 0, 0], [3, 1, 1], [1, 1, 0], [2, 2, 1], [0, 2, 0], [0, 3, 1], [0, 1, 0], [0, 2, 1], [0, 0, 0]]\n"
     ]
    },
    {
     "data": {
      "text/plain": [
       "(False, [])"
      ]
     },
     "execution_count": 6,
     "metadata": {},
     "output_type": "execute_result"
    }
   ],
   "source": [
    "# All solutions, debugging disabled\n",
    "suche(startzustand,[],all_solutions=True,debug=0)"
   ]
  },
  {
   "cell_type": "markdown",
   "metadata": {
    "_uuid": "0c793fee0dcc984f65496068ada39ff8711612fa"
   },
   "source": [
    "Jetzt wollen wir prüfen, ob wir auch für 4 Missionare und 4 Kannibalen einen Weg hinüber finden!"
   ]
  },
  {
   "cell_type": "code",
   "execution_count": 7,
   "metadata": {
    "_uuid": "56a1a643bfbe83dd43cd85df3b6f92b94a19b432"
   },
   "outputs": [],
   "source": [
    "# Wir brauchen eine allgemeinere Version von is_valid:\n",
    "def is_valid(zustand):\n",
    "    global max_value\n",
    "    m,k,b = zustand\n",
    "    # es gibt im Westen mehr Kannibalen, als Missionare\n",
    "    if m < k and m > 0: return False \n",
    "    # es gibt im Osten mehr Kannibalen, als Missionare\n",
    "    if m > k and m < max_value: return False\n",
    "    return True"
   ]
  },
  {
   "cell_type": "code",
   "execution_count": 8,
   "metadata": {
    "_uuid": "6ca68da9c837451d238ab66703de41a34252c61e"
   },
   "outputs": [
    {
     "name": "stdout",
     "output_type": "stream",
     "text": [
      " [4, 4, 1]  ->   [[3, 3, 0], [4, 3, 0], [4, 2, 0]]\n",
      "  [3, 3, 0]  ->   [[4, 4, 1], [4, 3, 1]]\n",
      "  repeated [4, 4, 1]\n",
      "   [4, 3, 1]  ->   [[3, 3, 0], [4, 2, 0], [4, 1, 0]]\n",
      "   repeated [3, 3, 0]\n",
      "    [4, 2, 0]  ->   [[4, 3, 1], [4, 4, 1]]\n",
      "    repeated [4, 3, 1]\n",
      "    repeated [4, 4, 1]\n",
      "    [4, 1, 0]  ->   [[4, 2, 1], [4, 3, 1]]\n",
      "     [4, 2, 1]  ->   [[4, 1, 0], [2, 2, 0], [4, 0, 0]]\n",
      "     repeated [4, 1, 0]\n",
      "      [2, 2, 0]  ->   [[3, 3, 1], [4, 2, 1]]\n",
      "       [3, 3, 1]  ->   [[2, 2, 0]]\n",
      "       repeated [2, 2, 0]\n",
      "      repeated [4, 2, 1]\n",
      "      [4, 0, 0]  ->   [[4, 1, 1], [4, 2, 1]]\n",
      "       [4, 1, 1]  ->   [[4, 0, 0]]\n",
      "       repeated [4, 0, 0]\n",
      "      repeated [4, 2, 1]\n",
      "    repeated [4, 3, 1]\n",
      "  [4, 3, 0]  ->   [[4, 4, 1]]\n",
      "  repeated [4, 4, 1]\n",
      "  [4, 2, 0]  ->   [[4, 3, 1], [4, 4, 1]]\n",
      "   [4, 3, 1]  ->   [[3, 3, 0], [4, 2, 0], [4, 1, 0]]\n",
      "    [3, 3, 0]  ->   [[4, 4, 1], [4, 3, 1]]\n",
      "    repeated [4, 4, 1]\n",
      "    repeated [4, 3, 1]\n",
      "   repeated [4, 2, 0]\n",
      "    [4, 1, 0]  ->   [[4, 2, 1], [4, 3, 1]]\n",
      "     [4, 2, 1]  ->   [[4, 1, 0], [2, 2, 0], [4, 0, 0]]\n",
      "     repeated [4, 1, 0]\n",
      "      [2, 2, 0]  ->   [[3, 3, 1], [4, 2, 1]]\n",
      "       [3, 3, 1]  ->   [[2, 2, 0]]\n",
      "       repeated [2, 2, 0]\n",
      "      repeated [4, 2, 1]\n",
      "      [4, 0, 0]  ->   [[4, 1, 1], [4, 2, 1]]\n",
      "       [4, 1, 1]  ->   [[4, 0, 0]]\n",
      "       repeated [4, 0, 0]\n",
      "      repeated [4, 2, 1]\n",
      "    repeated [4, 3, 1]\n",
      "  repeated [4, 4, 1]\n"
     ]
    },
    {
     "data": {
      "text/plain": [
       "(False, [])"
      ]
     },
     "execution_count": 8,
     "metadata": {},
     "output_type": "execute_result"
    }
   ],
   "source": [
    "# Jetzt können wir schon suchen!\n",
    "max_value = 4\n",
    "suche([4,4,1],[],all_solutions=True,debug=2)"
   ]
  },
  {
   "cell_type": "markdown",
   "metadata": {
    "_uuid": "88cf782b925a55fec4655c1bd01e3c61104a6498"
   },
   "source": [
    "Das geht nicht! Das ist auch nicht besonders überraschend, weil eine wichtige Operation in der Lösung ist, dass wir, nachdem wir alle Kannibalen auf die andere Seite gebracht haben (was wir tun müssen!), einen zurücksenden, und dann fahren 2 Missionare nach Osten, einer kommt mit einem Kannibalen zurück und dann fahren alle Missionare hinüber und der letzte Kannibale holt dann nach und nach seine Kumpels aus dem Westen. Ein analoges Vorgehen mit 4 Kannibalen können wir nicht zum Erfolg führen, s. oben!\n",
    "\n",
    "Das gilt so dann für jede Erhöhung der Anzahlen! Eine Variation würde sich ergeben, wenn wir das Boot auf 3 Plätze erhöhen würden - können wir dann das Problem mit 4 Kannibalen und 4 Missionaren lösen?"
   ]
  },
  {
   "cell_type": "markdown",
   "metadata": {
    "_uuid": "8943b10d1220610d5cff7d2384d77e8310dd20ac"
   },
   "source": [
    "**Aufgabe**: Testen Sie mit einer Variation des obigen Programms, ob es möglich ist, das 4-Kannibalen, 4 Missionare, 3-Platz-Boot-Problem zu lösen!\n",
    "\n",
    "Jupyter-Notebook können Sie über https://www.anaconda.com/download/ installieren!\n",
    "Sie können auch bei https://www.kaggle.com einen Account anlegen und dort \"live\" Notebooks ausprobieren (mit gewissen Beschränkungen)."
   ]
  },
  {
   "cell_type": "code",
   "execution_count": 9,
   "metadata": {
    "_uuid": "4d2dec1554a3125aafa168e16ee9e8a02bddfff5"
   },
   "outputs": [],
   "source": [
    "## Hier ist Platz für ihre Lösung in ihrem eigenen Notebook, senden Sie mir ein korrekte ausgeführtes Jupyter-Notebook, \n",
    "# per Link zu github oder zu einem öffentlichen Kaggle-Kernel!\n",
    "\n",
    "# gib_folgezustande neu definieren, um eine beliebige Bootgröße zu ermöglichen.\n",
    "# Bootgröße über globale boat_size vorgeben.\n",
    "def gib_folgezustaende(zustand):\n",
    "    global max_value, boat_size\n",
    "    m,k,b = zustand\n",
    "    incr  = -1 if b else +1\n",
    "    b_new = 0 if b else 1\n",
    "    \n",
    "    fzustaende = [[m+incr*xm, k+incr*xk, b_new] for xm in range(boat_size + 1) for xk in range(boat_size + 1) if xm + xk <= boat_size and not (xm == 0 and xk == 0)]\n",
    "    \n",
    "    # Entferne alle, die für m bzw. k kleiner 0 oder größer 3 sind\n",
    "    return [[k,m,b] for k,m,b in fzustaende \n",
    "                if k >= 0 and k <= max_value and m >= 0 and m <= max_value]"
   ]
  },
  {
   "cell_type": "code",
   "execution_count": 10,
   "metadata": {
    "_uuid": "9e497bb718b25923a324b2c0e3dc2ac467be2a68"
   },
   "outputs": [
    {
     "name": "stdout",
     "output_type": "stream",
     "text": [
      "Solution found:  True [[4, 4, 1], [4, 2, 0], [4, 3, 1], [4, 1, 0], [4, 2, 1], [4, 0, 0], [4, 1, 1], [1, 1, 0], [2, 2, 1], [0, 2, 0], [0, 3, 1], [0, 1, 0], [0, 2, 1], [0, 0, 0]]\n",
      "Solution found:  True [[4, 4, 1], [4, 2, 0], [4, 3, 1], [4, 1, 0], [4, 2, 1], [4, 0, 0], [4, 1, 1], [1, 1, 0], [2, 2, 1], [0, 2, 0], [0, 3, 1], [0, 1, 0], [1, 1, 1], [0, 0, 0]]\n",
      "Solution found:  True [[4, 4, 1], [4, 2, 0], [4, 3, 1], [4, 1, 0], [4, 2, 1], [4, 0, 0], [4, 1, 1], [1, 1, 0], [2, 2, 1], [0, 2, 0], [0, 3, 1], [0, 0, 0]]\n",
      "Solution found:  True [[4, 4, 1], [4, 2, 0], [4, 3, 1], [4, 1, 0], [4, 2, 1], [4, 0, 0], [4, 1, 1], [1, 1, 0], [2, 2, 1], [0, 2, 0], [0, 4, 1], [0, 1, 0], [0, 2, 1], [0, 0, 0]]\n",
      "Solution found:  True [[4, 4, 1], [4, 2, 0], [4, 3, 1], [4, 1, 0], [4, 2, 1], [4, 0, 0], [4, 1, 1], [1, 1, 0], [2, 2, 1], [0, 2, 0], [0, 4, 1], [0, 1, 0], [0, 3, 1], [0, 0, 0]]\n",
      "Solution found:  True [[4, 4, 1], [4, 2, 0], [4, 3, 1], [4, 1, 0], [4, 2, 1], [4, 0, 0], [4, 1, 1], [1, 1, 0], [2, 2, 1], [0, 2, 0], [0, 4, 1], [0, 1, 0], [1, 1, 1], [0, 0, 0]]\n",
      "Solution found:  True [[4, 4, 1], [4, 2, 0], [4, 3, 1], [4, 1, 0], [4, 2, 1], [4, 0, 0], [4, 1, 1], [1, 1, 0], [2, 2, 1], [0, 1, 0], [0, 2, 1], [0, 0, 0]]\n",
      "Solution found:  True [[4, 4, 1], [4, 2, 0], [4, 3, 1], [4, 1, 0], [4, 2, 1], [4, 0, 0], [4, 1, 1], [1, 1, 0], [2, 2, 1], [0, 1, 0], [0, 3, 1], [0, 0, 0]]\n",
      "Solution found:  True [[4, 4, 1], [4, 2, 0], [4, 3, 1], [4, 1, 0], [4, 2, 1], [4, 0, 0], [4, 1, 1], [1, 1, 0], [2, 2, 1], [0, 1, 0], [0, 4, 1], [0, 2, 0], [0, 3, 1], [0, 0, 0]]\n",
      "Solution found:  True [[4, 4, 1], [4, 2, 0], [4, 3, 1], [4, 1, 0], [4, 2, 1], [4, 0, 0], [4, 1, 1], [1, 1, 0], [2, 2, 1], [0, 1, 0], [1, 1, 1], [0, 0, 0]]\n",
      "Solution found:  True [[4, 4, 1], [4, 2, 0], [4, 3, 1], [4, 1, 0], [4, 2, 1], [2, 2, 0], [3, 3, 1], [0, 3, 0], [0, 4, 1], [0, 2, 0], [0, 3, 1], [0, 1, 0], [0, 2, 1], [0, 0, 0]]\n",
      "Solution found:  True [[4, 4, 1], [4, 2, 0], [4, 3, 1], [4, 1, 0], [4, 2, 1], [2, 2, 0], [3, 3, 1], [0, 3, 0], [0, 4, 1], [0, 2, 0], [0, 3, 1], [0, 1, 0], [1, 1, 1], [0, 0, 0]]\n",
      "Solution found:  True [[4, 4, 1], [4, 2, 0], [4, 3, 1], [4, 1, 0], [4, 2, 1], [2, 2, 0], [3, 3, 1], [0, 3, 0], [0, 4, 1], [0, 2, 0], [0, 3, 1], [0, 0, 0]]\n",
      "Solution found:  True [[4, 4, 1], [4, 2, 0], [4, 3, 1], [4, 1, 0], [4, 2, 1], [2, 2, 0], [3, 3, 1], [0, 3, 0], [0, 4, 1], [0, 2, 0], [2, 2, 1], [0, 1, 0], [0, 2, 1], [0, 0, 0]]\n",
      "Solution found:  True [[4, 4, 1], [4, 2, 0], [4, 3, 1], [4, 1, 0], [4, 2, 1], [2, 2, 0], [3, 3, 1], [0, 3, 0], [0, 4, 1], [0, 2, 0], [2, 2, 1], [0, 1, 0], [0, 3, 1], [0, 0, 0]]\n",
      "Solution found:  True [[4, 4, 1], [4, 2, 0], [4, 3, 1], [4, 1, 0], [4, 2, 1], [2, 2, 0], [3, 3, 1], [0, 3, 0], [0, 4, 1], [0, 2, 0], [2, 2, 1], [0, 1, 0], [1, 1, 1], [0, 0, 0]]\n",
      "Solution found:  True [[4, 4, 1], [4, 2, 0], [4, 3, 1], [4, 1, 0], [4, 2, 1], [2, 2, 0], [3, 3, 1], [0, 3, 0], [0, 4, 1], [0, 1, 0], [0, 2, 1], [0, 0, 0]]\n",
      "Solution found:  True [[4, 4, 1], [4, 2, 0], [4, 3, 1], [4, 1, 0], [4, 2, 1], [2, 2, 0], [3, 3, 1], [0, 3, 0], [0, 4, 1], [0, 1, 0], [0, 3, 1], [0, 0, 0]]\n",
      "Solution found:  True [[4, 4, 1], [4, 2, 0], [4, 3, 1], [4, 1, 0], [4, 2, 1], [2, 2, 0], [3, 3, 1], [0, 3, 0], [0, 4, 1], [0, 1, 0], [1, 1, 1], [0, 0, 0]]\n",
      "Solution found:  True [[4, 4, 1], [4, 2, 0], [4, 3, 1], [4, 1, 0], [4, 2, 1], [2, 2, 0], [3, 3, 1], [0, 3, 0], [0, 4, 1], [0, 1, 0], [2, 2, 1], [0, 2, 0], [0, 3, 1], [0, 0, 0]]\n",
      "Solution found:  True [[4, 4, 1], [4, 2, 0], [4, 3, 1], [4, 0, 0], [4, 1, 1], [1, 1, 0], [2, 2, 1], [0, 2, 0], [0, 3, 1], [0, 1, 0], [0, 2, 1], [0, 0, 0]]\n",
      "Solution found:  True [[4, 4, 1], [4, 2, 0], [4, 3, 1], [4, 0, 0], [4, 1, 1], [1, 1, 0], [2, 2, 1], [0, 2, 0], [0, 3, 1], [0, 1, 0], [1, 1, 1], [0, 0, 0]]\n",
      "Solution found:  True [[4, 4, 1], [4, 2, 0], [4, 3, 1], [4, 0, 0], [4, 1, 1], [1, 1, 0], [2, 2, 1], [0, 2, 0], [0, 3, 1], [0, 0, 0]]\n",
      "Solution found:  True [[4, 4, 1], [4, 2, 0], [4, 3, 1], [4, 0, 0], [4, 1, 1], [1, 1, 0], [2, 2, 1], [0, 2, 0], [0, 4, 1], [0, 1, 0], [0, 2, 1], [0, 0, 0]]\n",
      "Solution found:  True [[4, 4, 1], [4, 2, 0], [4, 3, 1], [4, 0, 0], [4, 1, 1], [1, 1, 0], [2, 2, 1], [0, 2, 0], [0, 4, 1], [0, 1, 0], [0, 3, 1], [0, 0, 0]]\n",
      "Solution found:  True [[4, 4, 1], [4, 2, 0], [4, 3, 1], [4, 0, 0], [4, 1, 1], [1, 1, 0], [2, 2, 1], [0, 2, 0], [0, 4, 1], [0, 1, 0], [1, 1, 1], [0, 0, 0]]\n",
      "Solution found:  True [[4, 4, 1], [4, 2, 0], [4, 3, 1], [4, 0, 0], [4, 1, 1], [1, 1, 0], [2, 2, 1], [0, 1, 0], [0, 2, 1], [0, 0, 0]]\n",
      "Solution found:  True [[4, 4, 1], [4, 2, 0], [4, 3, 1], [4, 0, 0], [4, 1, 1], [1, 1, 0], [2, 2, 1], [0, 1, 0], [0, 3, 1], [0, 0, 0]]\n",
      "Solution found:  True [[4, 4, 1], [4, 2, 0], [4, 3, 1], [4, 0, 0], [4, 1, 1], [1, 1, 0], [2, 2, 1], [0, 1, 0], [0, 4, 1], [0, 2, 0], [0, 3, 1], [0, 0, 0]]\n",
      "Solution found:  True [[4, 4, 1], [4, 2, 0], [4, 3, 1], [4, 0, 0], [4, 1, 1], [1, 1, 0], [2, 2, 1], [0, 1, 0], [1, 1, 1], [0, 0, 0]]\n",
      "Solution found:  True [[4, 4, 1], [4, 2, 0], [4, 3, 1], [4, 0, 0], [4, 2, 1], [2, 2, 0], [3, 3, 1], [0, 3, 0], [0, 4, 1], [0, 2, 0], [0, 3, 1], [0, 1, 0], [0, 2, 1], [0, 0, 0]]\n",
      "Solution found:  True [[4, 4, 1], [4, 2, 0], [4, 3, 1], [4, 0, 0], [4, 2, 1], [2, 2, 0], [3, 3, 1], [0, 3, 0], [0, 4, 1], [0, 2, 0], [0, 3, 1], [0, 1, 0], [1, 1, 1], [0, 0, 0]]\n",
      "Solution found:  True [[4, 4, 1], [4, 2, 0], [4, 3, 1], [4, 0, 0], [4, 2, 1], [2, 2, 0], [3, 3, 1], [0, 3, 0], [0, 4, 1], [0, 2, 0], [0, 3, 1], [0, 0, 0]]\n",
      "Solution found:  True [[4, 4, 1], [4, 2, 0], [4, 3, 1], [4, 0, 0], [4, 2, 1], [2, 2, 0], [3, 3, 1], [0, 3, 0], [0, 4, 1], [0, 2, 0], [2, 2, 1], [0, 1, 0], [0, 2, 1], [0, 0, 0]]\n",
      "Solution found:  True [[4, 4, 1], [4, 2, 0], [4, 3, 1], [4, 0, 0], [4, 2, 1], [2, 2, 0], [3, 3, 1], [0, 3, 0], [0, 4, 1], [0, 2, 0], [2, 2, 1], [0, 1, 0], [0, 3, 1], [0, 0, 0]]\n",
      "Solution found:  True [[4, 4, 1], [4, 2, 0], [4, 3, 1], [4, 0, 0], [4, 2, 1], [2, 2, 0], [3, 3, 1], [0, 3, 0], [0, 4, 1], [0, 2, 0], [2, 2, 1], [0, 1, 0], [1, 1, 1], [0, 0, 0]]\n",
      "Solution found:  True [[4, 4, 1], [4, 2, 0], [4, 3, 1], [4, 0, 0], [4, 2, 1], [2, 2, 0], [3, 3, 1], [0, 3, 0], [0, 4, 1], [0, 1, 0], [0, 2, 1], [0, 0, 0]]\n",
      "Solution found:  True [[4, 4, 1], [4, 2, 0], [4, 3, 1], [4, 0, 0], [4, 2, 1], [2, 2, 0], [3, 3, 1], [0, 3, 0], [0, 4, 1], [0, 1, 0], [0, 3, 1], [0, 0, 0]]\n",
      "Solution found:  True [[4, 4, 1], [4, 2, 0], [4, 3, 1], [4, 0, 0], [4, 2, 1], [2, 2, 0], [3, 3, 1], [0, 3, 0], [0, 4, 1], [0, 1, 0], [1, 1, 1], [0, 0, 0]]\n",
      "Solution found:  True [[4, 4, 1], [4, 2, 0], [4, 3, 1], [4, 0, 0], [4, 2, 1], [2, 2, 0], [3, 3, 1], [0, 3, 0], [0, 4, 1], [0, 1, 0], [2, 2, 1], [0, 2, 0], [0, 3, 1], [0, 0, 0]]\n",
      "Solution found:  True [[4, 4, 1], [4, 2, 0], [4, 3, 1], [2, 2, 0], [3, 3, 1], [0, 3, 0], [0, 4, 1], [0, 2, 0], [0, 3, 1], [0, 1, 0], [0, 2, 1], [0, 0, 0]]\n",
      "Solution found:  True [[4, 4, 1], [4, 2, 0], [4, 3, 1], [2, 2, 0], [3, 3, 1], [0, 3, 0], [0, 4, 1], [0, 2, 0], [0, 3, 1], [0, 1, 0], [1, 1, 1], [0, 0, 0]]\n",
      "Solution found:  True [[4, 4, 1], [4, 2, 0], [4, 3, 1], [2, 2, 0], [3, 3, 1], [0, 3, 0], [0, 4, 1], [0, 2, 0], [0, 3, 1], [0, 0, 0]]\n",
      "Solution found:  True [[4, 4, 1], [4, 2, 0], [4, 3, 1], [2, 2, 0], [3, 3, 1], [0, 3, 0], [0, 4, 1], [0, 2, 0], [2, 2, 1], [0, 1, 0], [0, 2, 1], [0, 0, 0]]\n",
      "Solution found:  True [[4, 4, 1], [4, 2, 0], [4, 3, 1], [2, 2, 0], [3, 3, 1], [0, 3, 0], [0, 4, 1], [0, 2, 0], [2, 2, 1], [0, 1, 0], [0, 3, 1], [0, 0, 0]]\n",
      "Solution found:  True [[4, 4, 1], [4, 2, 0], [4, 3, 1], [2, 2, 0], [3, 3, 1], [0, 3, 0], [0, 4, 1], [0, 2, 0], [2, 2, 1], [0, 1, 0], [1, 1, 1], [0, 0, 0]]\n",
      "Solution found:  True [[4, 4, 1], [4, 2, 0], [4, 3, 1], [2, 2, 0], [3, 3, 1], [0, 3, 0], [0, 4, 1], [0, 1, 0], [0, 2, 1], [0, 0, 0]]\n",
      "Solution found:  True [[4, 4, 1], [4, 2, 0], [4, 3, 1], [2, 2, 0], [3, 3, 1], [0, 3, 0], [0, 4, 1], [0, 1, 0], [0, 3, 1], [0, 0, 0]]\n",
      "Solution found:  True [[4, 4, 1], [4, 2, 0], [4, 3, 1], [2, 2, 0], [3, 3, 1], [0, 3, 0], [0, 4, 1], [0, 1, 0], [1, 1, 1], [0, 0, 0]]\n",
      "Solution found:  True [[4, 4, 1], [4, 2, 0], [4, 3, 1], [2, 2, 0], [3, 3, 1], [0, 3, 0], [0, 4, 1], [0, 1, 0], [2, 2, 1], [0, 2, 0], [0, 3, 1], [0, 0, 0]]\n",
      "Solution found:  True [[4, 4, 1], [4, 2, 0], [4, 3, 1], [2, 2, 0], [4, 2, 1], [4, 0, 0], [4, 1, 1], [1, 1, 0], [2, 2, 1], [0, 2, 0], [0, 3, 1], [0, 1, 0], [0, 2, 1], [0, 0, 0]]\n",
      "Solution found:  True [[4, 4, 1], [4, 2, 0], [4, 3, 1], [2, 2, 0], [4, 2, 1], [4, 0, 0], [4, 1, 1], [1, 1, 0], [2, 2, 1], [0, 2, 0], [0, 3, 1], [0, 1, 0], [1, 1, 1], [0, 0, 0]]\n",
      "Solution found:  True [[4, 4, 1], [4, 2, 0], [4, 3, 1], [2, 2, 0], [4, 2, 1], [4, 0, 0], [4, 1, 1], [1, 1, 0], [2, 2, 1], [0, 2, 0], [0, 3, 1], [0, 0, 0]]\n",
      "Solution found:  True [[4, 4, 1], [4, 2, 0], [4, 3, 1], [2, 2, 0], [4, 2, 1], [4, 0, 0], [4, 1, 1], [1, 1, 0], [2, 2, 1], [0, 2, 0], [0, 4, 1], [0, 1, 0], [0, 2, 1], [0, 0, 0]]\n",
      "Solution found:  True [[4, 4, 1], [4, 2, 0], [4, 3, 1], [2, 2, 0], [4, 2, 1], [4, 0, 0], [4, 1, 1], [1, 1, 0], [2, 2, 1], [0, 2, 0], [0, 4, 1], [0, 1, 0], [0, 3, 1], [0, 0, 0]]\n",
      "Solution found:  True [[4, 4, 1], [4, 2, 0], [4, 3, 1], [2, 2, 0], [4, 2, 1], [4, 0, 0], [4, 1, 1], [1, 1, 0], [2, 2, 1], [0, 2, 0], [0, 4, 1], [0, 1, 0], [1, 1, 1], [0, 0, 0]]\n",
      "Solution found:  True [[4, 4, 1], [4, 2, 0], [4, 3, 1], [2, 2, 0], [4, 2, 1], [4, 0, 0], [4, 1, 1], [1, 1, 0], [2, 2, 1], [0, 1, 0], [0, 2, 1], [0, 0, 0]]\n",
      "Solution found:  True [[4, 4, 1], [4, 2, 0], [4, 3, 1], [2, 2, 0], [4, 2, 1], [4, 0, 0], [4, 1, 1], [1, 1, 0], [2, 2, 1], [0, 1, 0], [0, 3, 1], [0, 0, 0]]\n",
      "Solution found:  True [[4, 4, 1], [4, 2, 0], [4, 3, 1], [2, 2, 0], [4, 2, 1], [4, 0, 0], [4, 1, 1], [1, 1, 0], [2, 2, 1], [0, 1, 0], [0, 4, 1], [0, 2, 0], [0, 3, 1], [0, 0, 0]]\n",
      "Solution found:  True [[4, 4, 1], [4, 2, 0], [4, 3, 1], [2, 2, 0], [4, 2, 1], [4, 0, 0], [4, 1, 1], [1, 1, 0], [2, 2, 1], [0, 1, 0], [1, 1, 1], [0, 0, 0]]\n",
      "Solution found:  True [[4, 4, 1], [4, 1, 0], [4, 2, 1], [4, 0, 0], [4, 1, 1], [1, 1, 0], [2, 2, 1], [0, 2, 0], [0, 3, 1], [0, 1, 0], [0, 2, 1], [0, 0, 0]]\n",
      "Solution found:  True [[4, 4, 1], [4, 1, 0], [4, 2, 1], [4, 0, 0], [4, 1, 1], [1, 1, 0], [2, 2, 1], [0, 2, 0], [0, 3, 1], [0, 1, 0], [1, 1, 1], [0, 0, 0]]\n",
      "Solution found:  True [[4, 4, 1], [4, 1, 0], [4, 2, 1], [4, 0, 0], [4, 1, 1], [1, 1, 0], [2, 2, 1], [0, 2, 0], [0, 3, 1], [0, 0, 0]]\n",
      "Solution found:  True [[4, 4, 1], [4, 1, 0], [4, 2, 1], [4, 0, 0], [4, 1, 1], [1, 1, 0], [2, 2, 1], [0, 2, 0], [0, 4, 1], [0, 1, 0], [0, 2, 1], [0, 0, 0]]\n",
      "Solution found:  True [[4, 4, 1], [4, 1, 0], [4, 2, 1], [4, 0, 0], [4, 1, 1], [1, 1, 0], [2, 2, 1], [0, 2, 0], [0, 4, 1], [0, 1, 0], [0, 3, 1], [0, 0, 0]]\n",
      "Solution found:  True [[4, 4, 1], [4, 1, 0], [4, 2, 1], [4, 0, 0], [4, 1, 1], [1, 1, 0], [2, 2, 1], [0, 2, 0], [0, 4, 1], [0, 1, 0], [1, 1, 1], [0, 0, 0]]\n",
      "Solution found:  True [[4, 4, 1], [4, 1, 0], [4, 2, 1], [4, 0, 0], [4, 1, 1], [1, 1, 0], [2, 2, 1], [0, 1, 0], [0, 2, 1], [0, 0, 0]]\n",
      "Solution found:  True [[4, 4, 1], [4, 1, 0], [4, 2, 1], [4, 0, 0], [4, 1, 1], [1, 1, 0], [2, 2, 1], [0, 1, 0], [0, 3, 1], [0, 0, 0]]\n",
      "Solution found:  True [[4, 4, 1], [4, 1, 0], [4, 2, 1], [4, 0, 0], [4, 1, 1], [1, 1, 0], [2, 2, 1], [0, 1, 0], [0, 4, 1], [0, 2, 0], [0, 3, 1], [0, 0, 0]]\n",
      "Solution found:  True [[4, 4, 1], [4, 1, 0], [4, 2, 1], [4, 0, 0], [4, 1, 1], [1, 1, 0], [2, 2, 1], [0, 1, 0], [1, 1, 1], [0, 0, 0]]\n",
      "Solution found:  True [[4, 4, 1], [4, 1, 0], [4, 2, 1], [4, 0, 0], [4, 3, 1], [2, 2, 0], [3, 3, 1], [0, 3, 0], [0, 4, 1], [0, 2, 0], [0, 3, 1], [0, 1, 0], [0, 2, 1], [0, 0, 0]]\n",
      "Solution found:  True [[4, 4, 1], [4, 1, 0], [4, 2, 1], [4, 0, 0], [4, 3, 1], [2, 2, 0], [3, 3, 1], [0, 3, 0], [0, 4, 1], [0, 2, 0], [0, 3, 1], [0, 1, 0], [1, 1, 1], [0, 0, 0]]\n",
      "Solution found:  True [[4, 4, 1], [4, 1, 0], [4, 2, 1], [4, 0, 0], [4, 3, 1], [2, 2, 0], [3, 3, 1], [0, 3, 0], [0, 4, 1], [0, 2, 0], [0, 3, 1], [0, 0, 0]]\n",
      "Solution found:  True [[4, 4, 1], [4, 1, 0], [4, 2, 1], [4, 0, 0], [4, 3, 1], [2, 2, 0], [3, 3, 1], [0, 3, 0], [0, 4, 1], [0, 2, 0], [2, 2, 1], [0, 1, 0], [0, 2, 1], [0, 0, 0]]\n",
      "Solution found:  True [[4, 4, 1], [4, 1, 0], [4, 2, 1], [4, 0, 0], [4, 3, 1], [2, 2, 0], [3, 3, 1], [0, 3, 0], [0, 4, 1], [0, 2, 0], [2, 2, 1], [0, 1, 0], [0, 3, 1], [0, 0, 0]]\n",
      "Solution found:  True [[4, 4, 1], [4, 1, 0], [4, 2, 1], [4, 0, 0], [4, 3, 1], [2, 2, 0], [3, 3, 1], [0, 3, 0], [0, 4, 1], [0, 2, 0], [2, 2, 1], [0, 1, 0], [1, 1, 1], [0, 0, 0]]\n",
      "Solution found:  True [[4, 4, 1], [4, 1, 0], [4, 2, 1], [4, 0, 0], [4, 3, 1], [2, 2, 0], [3, 3, 1], [0, 3, 0], [0, 4, 1], [0, 1, 0], [0, 2, 1], [0, 0, 0]]\n",
      "Solution found:  True [[4, 4, 1], [4, 1, 0], [4, 2, 1], [4, 0, 0], [4, 3, 1], [2, 2, 0], [3, 3, 1], [0, 3, 0], [0, 4, 1], [0, 1, 0], [0, 3, 1], [0, 0, 0]]\n",
      "Solution found:  True [[4, 4, 1], [4, 1, 0], [4, 2, 1], [4, 0, 0], [4, 3, 1], [2, 2, 0], [3, 3, 1], [0, 3, 0], [0, 4, 1], [0, 1, 0], [1, 1, 1], [0, 0, 0]]\n",
      "Solution found:  True [[4, 4, 1], [4, 1, 0], [4, 2, 1], [4, 0, 0], [4, 3, 1], [2, 2, 0], [3, 3, 1], [0, 3, 0], [0, 4, 1], [0, 1, 0], [2, 2, 1], [0, 2, 0], [0, 3, 1], [0, 0, 0]]\n",
      "Solution found:  True [[4, 4, 1], [4, 1, 0], [4, 2, 1], [2, 2, 0], [3, 3, 1], [0, 3, 0], [0, 4, 1], [0, 2, 0], [0, 3, 1], [0, 1, 0], [0, 2, 1], [0, 0, 0]]\n",
      "Solution found:  True [[4, 4, 1], [4, 1, 0], [4, 2, 1], [2, 2, 0], [3, 3, 1], [0, 3, 0], [0, 4, 1], [0, 2, 0], [0, 3, 1], [0, 1, 0], [1, 1, 1], [0, 0, 0]]\n",
      "Solution found:  True [[4, 4, 1], [4, 1, 0], [4, 2, 1], [2, 2, 0], [3, 3, 1], [0, 3, 0], [0, 4, 1], [0, 2, 0], [0, 3, 1], [0, 0, 0]]\n",
      "Solution found:  True [[4, 4, 1], [4, 1, 0], [4, 2, 1], [2, 2, 0], [3, 3, 1], [0, 3, 0], [0, 4, 1], [0, 2, 0], [2, 2, 1], [0, 1, 0], [0, 2, 1], [0, 0, 0]]\n",
      "Solution found:  True [[4, 4, 1], [4, 1, 0], [4, 2, 1], [2, 2, 0], [3, 3, 1], [0, 3, 0], [0, 4, 1], [0, 2, 0], [2, 2, 1], [0, 1, 0], [0, 3, 1], [0, 0, 0]]\n",
      "Solution found:  True [[4, 4, 1], [4, 1, 0], [4, 2, 1], [2, 2, 0], [3, 3, 1], [0, 3, 0], [0, 4, 1], [0, 2, 0], [2, 2, 1], [0, 1, 0], [1, 1, 1], [0, 0, 0]]\n",
      "Solution found:  True [[4, 4, 1], [4, 1, 0], [4, 2, 1], [2, 2, 0], [3, 3, 1], [0, 3, 0], [0, 4, 1], [0, 1, 0], [0, 2, 1], [0, 0, 0]]\n",
      "Solution found:  True [[4, 4, 1], [4, 1, 0], [4, 2, 1], [2, 2, 0], [3, 3, 1], [0, 3, 0], [0, 4, 1], [0, 1, 0], [0, 3, 1], [0, 0, 0]]\n",
      "Solution found:  True [[4, 4, 1], [4, 1, 0], [4, 2, 1], [2, 2, 0], [3, 3, 1], [0, 3, 0], [0, 4, 1], [0, 1, 0], [1, 1, 1], [0, 0, 0]]\n",
      "Solution found:  True [[4, 4, 1], [4, 1, 0], [4, 2, 1], [2, 2, 0], [3, 3, 1], [0, 3, 0], [0, 4, 1], [0, 1, 0], [2, 2, 1], [0, 2, 0], [0, 3, 1], [0, 0, 0]]\n",
      "Solution found:  True [[4, 4, 1], [4, 1, 0], [4, 2, 1], [2, 2, 0], [4, 3, 1], [4, 0, 0], [4, 1, 1], [1, 1, 0], [2, 2, 1], [0, 2, 0], [0, 3, 1], [0, 1, 0], [0, 2, 1], [0, 0, 0]]\n",
      "Solution found:  True [[4, 4, 1], [4, 1, 0], [4, 2, 1], [2, 2, 0], [4, 3, 1], [4, 0, 0], [4, 1, 1], [1, 1, 0], [2, 2, 1], [0, 2, 0], [0, 3, 1], [0, 1, 0], [1, 1, 1], [0, 0, 0]]\n",
      "Solution found:  True [[4, 4, 1], [4, 1, 0], [4, 2, 1], [2, 2, 0], [4, 3, 1], [4, 0, 0], [4, 1, 1], [1, 1, 0], [2, 2, 1], [0, 2, 0], [0, 3, 1], [0, 0, 0]]\n",
      "Solution found:  True [[4, 4, 1], [4, 1, 0], [4, 2, 1], [2, 2, 0], [4, 3, 1], [4, 0, 0], [4, 1, 1], [1, 1, 0], [2, 2, 1], [0, 2, 0], [0, 4, 1], [0, 1, 0], [0, 2, 1], [0, 0, 0]]\n",
      "Solution found:  True [[4, 4, 1], [4, 1, 0], [4, 2, 1], [2, 2, 0], [4, 3, 1], [4, 0, 0], [4, 1, 1], [1, 1, 0], [2, 2, 1], [0, 2, 0], [0, 4, 1], [0, 1, 0], [0, 3, 1], [0, 0, 0]]\n",
      "Solution found:  True [[4, 4, 1], [4, 1, 0], [4, 2, 1], [2, 2, 0], [4, 3, 1], [4, 0, 0], [4, 1, 1], [1, 1, 0], [2, 2, 1], [0, 2, 0], [0, 4, 1], [0, 1, 0], [1, 1, 1], [0, 0, 0]]\n",
      "Solution found:  True [[4, 4, 1], [4, 1, 0], [4, 2, 1], [2, 2, 0], [4, 3, 1], [4, 0, 0], [4, 1, 1], [1, 1, 0], [2, 2, 1], [0, 1, 0], [0, 2, 1], [0, 0, 0]]\n",
      "Solution found:  True [[4, 4, 1], [4, 1, 0], [4, 2, 1], [2, 2, 0], [4, 3, 1], [4, 0, 0], [4, 1, 1], [1, 1, 0], [2, 2, 1], [0, 1, 0], [0, 3, 1], [0, 0, 0]]\n",
      "Solution found:  True [[4, 4, 1], [4, 1, 0], [4, 2, 1], [2, 2, 0], [4, 3, 1], [4, 0, 0], [4, 1, 1], [1, 1, 0], [2, 2, 1], [0, 1, 0], [0, 4, 1], [0, 2, 0], [0, 3, 1], [0, 0, 0]]\n",
      "Solution found:  True [[4, 4, 1], [4, 1, 0], [4, 2, 1], [2, 2, 0], [4, 3, 1], [4, 0, 0], [4, 1, 1], [1, 1, 0], [2, 2, 1], [0, 1, 0], [1, 1, 1], [0, 0, 0]]\n",
      "Solution found:  True [[4, 4, 1], [4, 1, 0], [4, 3, 1], [4, 0, 0], [4, 1, 1], [1, 1, 0], [2, 2, 1], [0, 2, 0], [0, 3, 1], [0, 1, 0], [0, 2, 1], [0, 0, 0]]\n",
      "Solution found:  True [[4, 4, 1], [4, 1, 0], [4, 3, 1], [4, 0, 0], [4, 1, 1], [1, 1, 0], [2, 2, 1], [0, 2, 0], [0, 3, 1], [0, 1, 0], [1, 1, 1], [0, 0, 0]]\n",
      "Solution found:  True [[4, 4, 1], [4, 1, 0], [4, 3, 1], [4, 0, 0], [4, 1, 1], [1, 1, 0], [2, 2, 1], [0, 2, 0], [0, 3, 1], [0, 0, 0]]\n",
      "Solution found:  True [[4, 4, 1], [4, 1, 0], [4, 3, 1], [4, 0, 0], [4, 1, 1], [1, 1, 0], [2, 2, 1], [0, 2, 0], [0, 4, 1], [0, 1, 0], [0, 2, 1], [0, 0, 0]]\n",
      "Solution found:  True [[4, 4, 1], [4, 1, 0], [4, 3, 1], [4, 0, 0], [4, 1, 1], [1, 1, 0], [2, 2, 1], [0, 2, 0], [0, 4, 1], [0, 1, 0], [0, 3, 1], [0, 0, 0]]\n",
      "Solution found:  True [[4, 4, 1], [4, 1, 0], [4, 3, 1], [4, 0, 0], [4, 1, 1], [1, 1, 0], [2, 2, 1], [0, 2, 0], [0, 4, 1], [0, 1, 0], [1, 1, 1], [0, 0, 0]]\n",
      "Solution found:  True [[4, 4, 1], [4, 1, 0], [4, 3, 1], [4, 0, 0], [4, 1, 1], [1, 1, 0], [2, 2, 1], [0, 1, 0], [0, 2, 1], [0, 0, 0]]\n",
      "Solution found:  True [[4, 4, 1], [4, 1, 0], [4, 3, 1], [4, 0, 0], [4, 1, 1], [1, 1, 0], [2, 2, 1], [0, 1, 0], [0, 3, 1], [0, 0, 0]]\n",
      "Solution found:  True [[4, 4, 1], [4, 1, 0], [4, 3, 1], [4, 0, 0], [4, 1, 1], [1, 1, 0], [2, 2, 1], [0, 1, 0], [0, 4, 1], [0, 2, 0], [0, 3, 1], [0, 0, 0]]\n",
      "Solution found:  True [[4, 4, 1], [4, 1, 0], [4, 3, 1], [4, 0, 0], [4, 1, 1], [1, 1, 0], [2, 2, 1], [0, 1, 0], [1, 1, 1], [0, 0, 0]]\n",
      "Solution found:  True [[4, 4, 1], [4, 1, 0], [4, 3, 1], [4, 0, 0], [4, 2, 1], [2, 2, 0], [3, 3, 1], [0, 3, 0], [0, 4, 1], [0, 2, 0], [0, 3, 1], [0, 1, 0], [0, 2, 1], [0, 0, 0]]\n",
      "Solution found:  True [[4, 4, 1], [4, 1, 0], [4, 3, 1], [4, 0, 0], [4, 2, 1], [2, 2, 0], [3, 3, 1], [0, 3, 0], [0, 4, 1], [0, 2, 0], [0, 3, 1], [0, 1, 0], [1, 1, 1], [0, 0, 0]]\n",
      "Solution found:  True [[4, 4, 1], [4, 1, 0], [4, 3, 1], [4, 0, 0], [4, 2, 1], [2, 2, 0], [3, 3, 1], [0, 3, 0], [0, 4, 1], [0, 2, 0], [0, 3, 1], [0, 0, 0]]\n",
      "Solution found:  True [[4, 4, 1], [4, 1, 0], [4, 3, 1], [4, 0, 0], [4, 2, 1], [2, 2, 0], [3, 3, 1], [0, 3, 0], [0, 4, 1], [0, 2, 0], [2, 2, 1], [0, 1, 0], [0, 2, 1], [0, 0, 0]]\n",
      "Solution found:  True [[4, 4, 1], [4, 1, 0], [4, 3, 1], [4, 0, 0], [4, 2, 1], [2, 2, 0], [3, 3, 1], [0, 3, 0], [0, 4, 1], [0, 2, 0], [2, 2, 1], [0, 1, 0], [0, 3, 1], [0, 0, 0]]\n",
      "Solution found:  True [[4, 4, 1], [4, 1, 0], [4, 3, 1], [4, 0, 0], [4, 2, 1], [2, 2, 0], [3, 3, 1], [0, 3, 0], [0, 4, 1], [0, 2, 0], [2, 2, 1], [0, 1, 0], [1, 1, 1], [0, 0, 0]]\n",
      "Solution found:  True [[4, 4, 1], [4, 1, 0], [4, 3, 1], [4, 0, 0], [4, 2, 1], [2, 2, 0], [3, 3, 1], [0, 3, 0], [0, 4, 1], [0, 1, 0], [0, 2, 1], [0, 0, 0]]\n",
      "Solution found:  True [[4, 4, 1], [4, 1, 0], [4, 3, 1], [4, 0, 0], [4, 2, 1], [2, 2, 0], [3, 3, 1], [0, 3, 0], [0, 4, 1], [0, 1, 0], [0, 3, 1], [0, 0, 0]]\n",
      "Solution found:  True [[4, 4, 1], [4, 1, 0], [4, 3, 1], [4, 0, 0], [4, 2, 1], [2, 2, 0], [3, 3, 1], [0, 3, 0], [0, 4, 1], [0, 1, 0], [1, 1, 1], [0, 0, 0]]\n",
      "Solution found:  True [[4, 4, 1], [4, 1, 0], [4, 3, 1], [4, 0, 0], [4, 2, 1], [2, 2, 0], [3, 3, 1], [0, 3, 0], [0, 4, 1], [0, 1, 0], [2, 2, 1], [0, 2, 0], [0, 3, 1], [0, 0, 0]]\n",
      "Solution found:  True [[4, 4, 1], [4, 1, 0], [4, 3, 1], [2, 2, 0], [3, 3, 1], [0, 3, 0], [0, 4, 1], [0, 2, 0], [0, 3, 1], [0, 1, 0], [0, 2, 1], [0, 0, 0]]\n",
      "Solution found:  True [[4, 4, 1], [4, 1, 0], [4, 3, 1], [2, 2, 0], [3, 3, 1], [0, 3, 0], [0, 4, 1], [0, 2, 0], [0, 3, 1], [0, 1, 0], [1, 1, 1], [0, 0, 0]]\n",
      "Solution found:  True [[4, 4, 1], [4, 1, 0], [4, 3, 1], [2, 2, 0], [3, 3, 1], [0, 3, 0], [0, 4, 1], [0, 2, 0], [0, 3, 1], [0, 0, 0]]\n",
      "Solution found:  True [[4, 4, 1], [4, 1, 0], [4, 3, 1], [2, 2, 0], [3, 3, 1], [0, 3, 0], [0, 4, 1], [0, 2, 0], [2, 2, 1], [0, 1, 0], [0, 2, 1], [0, 0, 0]]\n",
      "Solution found:  True [[4, 4, 1], [4, 1, 0], [4, 3, 1], [2, 2, 0], [3, 3, 1], [0, 3, 0], [0, 4, 1], [0, 2, 0], [2, 2, 1], [0, 1, 0], [0, 3, 1], [0, 0, 0]]\n",
      "Solution found:  True [[4, 4, 1], [4, 1, 0], [4, 3, 1], [2, 2, 0], [3, 3, 1], [0, 3, 0], [0, 4, 1], [0, 2, 0], [2, 2, 1], [0, 1, 0], [1, 1, 1], [0, 0, 0]]\n",
      "Solution found:  True [[4, 4, 1], [4, 1, 0], [4, 3, 1], [2, 2, 0], [3, 3, 1], [0, 3, 0], [0, 4, 1], [0, 1, 0], [0, 2, 1], [0, 0, 0]]\n",
      "Solution found:  True [[4, 4, 1], [4, 1, 0], [4, 3, 1], [2, 2, 0], [3, 3, 1], [0, 3, 0], [0, 4, 1], [0, 1, 0], [0, 3, 1], [0, 0, 0]]\n",
      "Solution found:  True [[4, 4, 1], [4, 1, 0], [4, 3, 1], [2, 2, 0], [3, 3, 1], [0, 3, 0], [0, 4, 1], [0, 1, 0], [1, 1, 1], [0, 0, 0]]\n",
      "Solution found:  True [[4, 4, 1], [4, 1, 0], [4, 3, 1], [2, 2, 0], [3, 3, 1], [0, 3, 0], [0, 4, 1], [0, 1, 0], [2, 2, 1], [0, 2, 0], [0, 3, 1], [0, 0, 0]]\n",
      "Solution found:  True [[4, 4, 1], [4, 1, 0], [4, 3, 1], [2, 2, 0], [4, 2, 1], [4, 0, 0], [4, 1, 1], [1, 1, 0], [2, 2, 1], [0, 2, 0], [0, 3, 1], [0, 1, 0], [0, 2, 1], [0, 0, 0]]\n",
      "Solution found:  True [[4, 4, 1], [4, 1, 0], [4, 3, 1], [2, 2, 0], [4, 2, 1], [4, 0, 0], [4, 1, 1], [1, 1, 0], [2, 2, 1], [0, 2, 0], [0, 3, 1], [0, 1, 0], [1, 1, 1], [0, 0, 0]]\n",
      "Solution found:  True [[4, 4, 1], [4, 1, 0], [4, 3, 1], [2, 2, 0], [4, 2, 1], [4, 0, 0], [4, 1, 1], [1, 1, 0], [2, 2, 1], [0, 2, 0], [0, 3, 1], [0, 0, 0]]\n",
      "Solution found:  True [[4, 4, 1], [4, 1, 0], [4, 3, 1], [2, 2, 0], [4, 2, 1], [4, 0, 0], [4, 1, 1], [1, 1, 0], [2, 2, 1], [0, 2, 0], [0, 4, 1], [0, 1, 0], [0, 2, 1], [0, 0, 0]]\n",
      "Solution found:  True [[4, 4, 1], [4, 1, 0], [4, 3, 1], [2, 2, 0], [4, 2, 1], [4, 0, 0], [4, 1, 1], [1, 1, 0], [2, 2, 1], [0, 2, 0], [0, 4, 1], [0, 1, 0], [0, 3, 1], [0, 0, 0]]\n",
      "Solution found:  True [[4, 4, 1], [4, 1, 0], [4, 3, 1], [2, 2, 0], [4, 2, 1], [4, 0, 0], [4, 1, 1], [1, 1, 0], [2, 2, 1], [0, 2, 0], [0, 4, 1], [0, 1, 0], [1, 1, 1], [0, 0, 0]]\n",
      "Solution found:  True [[4, 4, 1], [4, 1, 0], [4, 3, 1], [2, 2, 0], [4, 2, 1], [4, 0, 0], [4, 1, 1], [1, 1, 0], [2, 2, 1], [0, 1, 0], [0, 2, 1], [0, 0, 0]]\n",
      "Solution found:  True [[4, 4, 1], [4, 1, 0], [4, 3, 1], [2, 2, 0], [4, 2, 1], [4, 0, 0], [4, 1, 1], [1, 1, 0], [2, 2, 1], [0, 1, 0], [0, 3, 1], [0, 0, 0]]\n",
      "Solution found:  True [[4, 4, 1], [4, 1, 0], [4, 3, 1], [2, 2, 0], [4, 2, 1], [4, 0, 0], [4, 1, 1], [1, 1, 0], [2, 2, 1], [0, 1, 0], [0, 4, 1], [0, 2, 0], [0, 3, 1], [0, 0, 0]]\n",
      "Solution found:  True [[4, 4, 1], [4, 1, 0], [4, 3, 1], [2, 2, 0], [4, 2, 1], [4, 0, 0], [4, 1, 1], [1, 1, 0], [2, 2, 1], [0, 1, 0], [1, 1, 1], [0, 0, 0]]\n",
      "Solution found:  True [[4, 4, 1], [3, 3, 0], [4, 3, 1], [4, 1, 0], [4, 2, 1], [4, 0, 0], [4, 1, 1], [1, 1, 0], [2, 2, 1], [0, 2, 0], [0, 3, 1], [0, 1, 0], [0, 2, 1], [0, 0, 0]]\n",
      "Solution found:  True [[4, 4, 1], [3, 3, 0], [4, 3, 1], [4, 1, 0], [4, 2, 1], [4, 0, 0], [4, 1, 1], [1, 1, 0], [2, 2, 1], [0, 2, 0], [0, 3, 1], [0, 1, 0], [1, 1, 1], [0, 0, 0]]\n",
      "Solution found:  True [[4, 4, 1], [3, 3, 0], [4, 3, 1], [4, 1, 0], [4, 2, 1], [4, 0, 0], [4, 1, 1], [1, 1, 0], [2, 2, 1], [0, 2, 0], [0, 3, 1], [0, 0, 0]]\n",
      "Solution found:  True [[4, 4, 1], [3, 3, 0], [4, 3, 1], [4, 1, 0], [4, 2, 1], [4, 0, 0], [4, 1, 1], [1, 1, 0], [2, 2, 1], [0, 2, 0], [0, 4, 1], [0, 1, 0], [0, 2, 1], [0, 0, 0]]\n",
      "Solution found:  True [[4, 4, 1], [3, 3, 0], [4, 3, 1], [4, 1, 0], [4, 2, 1], [4, 0, 0], [4, 1, 1], [1, 1, 0], [2, 2, 1], [0, 2, 0], [0, 4, 1], [0, 1, 0], [0, 3, 1], [0, 0, 0]]\n",
      "Solution found:  True [[4, 4, 1], [3, 3, 0], [4, 3, 1], [4, 1, 0], [4, 2, 1], [4, 0, 0], [4, 1, 1], [1, 1, 0], [2, 2, 1], [0, 2, 0], [0, 4, 1], [0, 1, 0], [1, 1, 1], [0, 0, 0]]\n",
      "Solution found:  True [[4, 4, 1], [3, 3, 0], [4, 3, 1], [4, 1, 0], [4, 2, 1], [4, 0, 0], [4, 1, 1], [1, 1, 0], [2, 2, 1], [0, 1, 0], [0, 2, 1], [0, 0, 0]]\n",
      "Solution found:  True [[4, 4, 1], [3, 3, 0], [4, 3, 1], [4, 1, 0], [4, 2, 1], [4, 0, 0], [4, 1, 1], [1, 1, 0], [2, 2, 1], [0, 1, 0], [0, 3, 1], [0, 0, 0]]\n",
      "Solution found:  True [[4, 4, 1], [3, 3, 0], [4, 3, 1], [4, 1, 0], [4, 2, 1], [4, 0, 0], [4, 1, 1], [1, 1, 0], [2, 2, 1], [0, 1, 0], [0, 4, 1], [0, 2, 0], [0, 3, 1], [0, 0, 0]]\n",
      "Solution found:  True [[4, 4, 1], [3, 3, 0], [4, 3, 1], [4, 1, 0], [4, 2, 1], [4, 0, 0], [4, 1, 1], [1, 1, 0], [2, 2, 1], [0, 1, 0], [1, 1, 1], [0, 0, 0]]\n",
      "Solution found:  True [[4, 4, 1], [3, 3, 0], [4, 3, 1], [4, 1, 0], [4, 2, 1], [2, 2, 0], [3, 3, 1], [0, 3, 0], [0, 4, 1], [0, 2, 0], [0, 3, 1], [0, 1, 0], [0, 2, 1], [0, 0, 0]]\n",
      "Solution found:  True [[4, 4, 1], [3, 3, 0], [4, 3, 1], [4, 1, 0], [4, 2, 1], [2, 2, 0], [3, 3, 1], [0, 3, 0], [0, 4, 1], [0, 2, 0], [0, 3, 1], [0, 1, 0], [1, 1, 1], [0, 0, 0]]\n",
      "Solution found:  True [[4, 4, 1], [3, 3, 0], [4, 3, 1], [4, 1, 0], [4, 2, 1], [2, 2, 0], [3, 3, 1], [0, 3, 0], [0, 4, 1], [0, 2, 0], [0, 3, 1], [0, 0, 0]]\n",
      "Solution found:  True [[4, 4, 1], [3, 3, 0], [4, 3, 1], [4, 1, 0], [4, 2, 1], [2, 2, 0], [3, 3, 1], [0, 3, 0], [0, 4, 1], [0, 2, 0], [2, 2, 1], [0, 1, 0], [0, 2, 1], [0, 0, 0]]\n",
      "Solution found:  True [[4, 4, 1], [3, 3, 0], [4, 3, 1], [4, 1, 0], [4, 2, 1], [2, 2, 0], [3, 3, 1], [0, 3, 0], [0, 4, 1], [0, 2, 0], [2, 2, 1], [0, 1, 0], [0, 3, 1], [0, 0, 0]]\n",
      "Solution found:  True [[4, 4, 1], [3, 3, 0], [4, 3, 1], [4, 1, 0], [4, 2, 1], [2, 2, 0], [3, 3, 1], [0, 3, 0], [0, 4, 1], [0, 2, 0], [2, 2, 1], [0, 1, 0], [1, 1, 1], [0, 0, 0]]\n",
      "Solution found:  True [[4, 4, 1], [3, 3, 0], [4, 3, 1], [4, 1, 0], [4, 2, 1], [2, 2, 0], [3, 3, 1], [0, 3, 0], [0, 4, 1], [0, 1, 0], [0, 2, 1], [0, 0, 0]]\n",
      "Solution found:  True [[4, 4, 1], [3, 3, 0], [4, 3, 1], [4, 1, 0], [4, 2, 1], [2, 2, 0], [3, 3, 1], [0, 3, 0], [0, 4, 1], [0, 1, 0], [0, 3, 1], [0, 0, 0]]\n",
      "Solution found:  True [[4, 4, 1], [3, 3, 0], [4, 3, 1], [4, 1, 0], [4, 2, 1], [2, 2, 0], [3, 3, 1], [0, 3, 0], [0, 4, 1], [0, 1, 0], [1, 1, 1], [0, 0, 0]]\n",
      "Solution found:  True [[4, 4, 1], [3, 3, 0], [4, 3, 1], [4, 1, 0], [4, 2, 1], [2, 2, 0], [3, 3, 1], [0, 3, 0], [0, 4, 1], [0, 1, 0], [2, 2, 1], [0, 2, 0], [0, 3, 1], [0, 0, 0]]\n",
      "Solution found:  True [[4, 4, 1], [3, 3, 0], [4, 3, 1], [4, 0, 0], [4, 1, 1], [1, 1, 0], [2, 2, 1], [0, 2, 0], [0, 3, 1], [0, 1, 0], [0, 2, 1], [0, 0, 0]]\n",
      "Solution found:  True [[4, 4, 1], [3, 3, 0], [4, 3, 1], [4, 0, 0], [4, 1, 1], [1, 1, 0], [2, 2, 1], [0, 2, 0], [0, 3, 1], [0, 1, 0], [1, 1, 1], [0, 0, 0]]\n",
      "Solution found:  True [[4, 4, 1], [3, 3, 0], [4, 3, 1], [4, 0, 0], [4, 1, 1], [1, 1, 0], [2, 2, 1], [0, 2, 0], [0, 3, 1], [0, 0, 0]]\n"
     ]
    },
    {
     "name": "stdout",
     "output_type": "stream",
     "text": [
      "Solution found:  True [[4, 4, 1], [3, 3, 0], [4, 3, 1], [4, 0, 0], [4, 1, 1], [1, 1, 0], [2, 2, 1], [0, 2, 0], [0, 4, 1], [0, 1, 0], [0, 2, 1], [0, 0, 0]]\n",
      "Solution found:  True [[4, 4, 1], [3, 3, 0], [4, 3, 1], [4, 0, 0], [4, 1, 1], [1, 1, 0], [2, 2, 1], [0, 2, 0], [0, 4, 1], [0, 1, 0], [0, 3, 1], [0, 0, 0]]\n",
      "Solution found:  True [[4, 4, 1], [3, 3, 0], [4, 3, 1], [4, 0, 0], [4, 1, 1], [1, 1, 0], [2, 2, 1], [0, 2, 0], [0, 4, 1], [0, 1, 0], [1, 1, 1], [0, 0, 0]]\n",
      "Solution found:  True [[4, 4, 1], [3, 3, 0], [4, 3, 1], [4, 0, 0], [4, 1, 1], [1, 1, 0], [2, 2, 1], [0, 1, 0], [0, 2, 1], [0, 0, 0]]\n",
      "Solution found:  True [[4, 4, 1], [3, 3, 0], [4, 3, 1], [4, 0, 0], [4, 1, 1], [1, 1, 0], [2, 2, 1], [0, 1, 0], [0, 3, 1], [0, 0, 0]]\n",
      "Solution found:  True [[4, 4, 1], [3, 3, 0], [4, 3, 1], [4, 0, 0], [4, 1, 1], [1, 1, 0], [2, 2, 1], [0, 1, 0], [0, 4, 1], [0, 2, 0], [0, 3, 1], [0, 0, 0]]\n",
      "Solution found:  True [[4, 4, 1], [3, 3, 0], [4, 3, 1], [4, 0, 0], [4, 1, 1], [1, 1, 0], [2, 2, 1], [0, 1, 0], [1, 1, 1], [0, 0, 0]]\n",
      "Solution found:  True [[4, 4, 1], [3, 3, 0], [4, 3, 1], [4, 0, 0], [4, 2, 1], [2, 2, 0], [3, 3, 1], [0, 3, 0], [0, 4, 1], [0, 2, 0], [0, 3, 1], [0, 1, 0], [0, 2, 1], [0, 0, 0]]\n",
      "Solution found:  True [[4, 4, 1], [3, 3, 0], [4, 3, 1], [4, 0, 0], [4, 2, 1], [2, 2, 0], [3, 3, 1], [0, 3, 0], [0, 4, 1], [0, 2, 0], [0, 3, 1], [0, 1, 0], [1, 1, 1], [0, 0, 0]]\n",
      "Solution found:  True [[4, 4, 1], [3, 3, 0], [4, 3, 1], [4, 0, 0], [4, 2, 1], [2, 2, 0], [3, 3, 1], [0, 3, 0], [0, 4, 1], [0, 2, 0], [0, 3, 1], [0, 0, 0]]\n",
      "Solution found:  True [[4, 4, 1], [3, 3, 0], [4, 3, 1], [4, 0, 0], [4, 2, 1], [2, 2, 0], [3, 3, 1], [0, 3, 0], [0, 4, 1], [0, 2, 0], [2, 2, 1], [0, 1, 0], [0, 2, 1], [0, 0, 0]]\n",
      "Solution found:  True [[4, 4, 1], [3, 3, 0], [4, 3, 1], [4, 0, 0], [4, 2, 1], [2, 2, 0], [3, 3, 1], [0, 3, 0], [0, 4, 1], [0, 2, 0], [2, 2, 1], [0, 1, 0], [0, 3, 1], [0, 0, 0]]\n",
      "Solution found:  True [[4, 4, 1], [3, 3, 0], [4, 3, 1], [4, 0, 0], [4, 2, 1], [2, 2, 0], [3, 3, 1], [0, 3, 0], [0, 4, 1], [0, 2, 0], [2, 2, 1], [0, 1, 0], [1, 1, 1], [0, 0, 0]]\n",
      "Solution found:  True [[4, 4, 1], [3, 3, 0], [4, 3, 1], [4, 0, 0], [4, 2, 1], [2, 2, 0], [3, 3, 1], [0, 3, 0], [0, 4, 1], [0, 1, 0], [0, 2, 1], [0, 0, 0]]\n",
      "Solution found:  True [[4, 4, 1], [3, 3, 0], [4, 3, 1], [4, 0, 0], [4, 2, 1], [2, 2, 0], [3, 3, 1], [0, 3, 0], [0, 4, 1], [0, 1, 0], [0, 3, 1], [0, 0, 0]]\n",
      "Solution found:  True [[4, 4, 1], [3, 3, 0], [4, 3, 1], [4, 0, 0], [4, 2, 1], [2, 2, 0], [3, 3, 1], [0, 3, 0], [0, 4, 1], [0, 1, 0], [1, 1, 1], [0, 0, 0]]\n",
      "Solution found:  True [[4, 4, 1], [3, 3, 0], [4, 3, 1], [4, 0, 0], [4, 2, 1], [2, 2, 0], [3, 3, 1], [0, 3, 0], [0, 4, 1], [0, 1, 0], [2, 2, 1], [0, 2, 0], [0, 3, 1], [0, 0, 0]]\n",
      "Solution found:  True [[4, 4, 1], [3, 3, 0], [4, 3, 1], [2, 2, 0], [3, 3, 1], [0, 3, 0], [0, 4, 1], [0, 2, 0], [0, 3, 1], [0, 1, 0], [0, 2, 1], [0, 0, 0]]\n",
      "Solution found:  True [[4, 4, 1], [3, 3, 0], [4, 3, 1], [2, 2, 0], [3, 3, 1], [0, 3, 0], [0, 4, 1], [0, 2, 0], [0, 3, 1], [0, 1, 0], [1, 1, 1], [0, 0, 0]]\n",
      "Solution found:  True [[4, 4, 1], [3, 3, 0], [4, 3, 1], [2, 2, 0], [3, 3, 1], [0, 3, 0], [0, 4, 1], [0, 2, 0], [0, 3, 1], [0, 0, 0]]\n",
      "Solution found:  True [[4, 4, 1], [3, 3, 0], [4, 3, 1], [2, 2, 0], [3, 3, 1], [0, 3, 0], [0, 4, 1], [0, 2, 0], [2, 2, 1], [0, 1, 0], [0, 2, 1], [0, 0, 0]]\n",
      "Solution found:  True [[4, 4, 1], [3, 3, 0], [4, 3, 1], [2, 2, 0], [3, 3, 1], [0, 3, 0], [0, 4, 1], [0, 2, 0], [2, 2, 1], [0, 1, 0], [0, 3, 1], [0, 0, 0]]\n",
      "Solution found:  True [[4, 4, 1], [3, 3, 0], [4, 3, 1], [2, 2, 0], [3, 3, 1], [0, 3, 0], [0, 4, 1], [0, 2, 0], [2, 2, 1], [0, 1, 0], [1, 1, 1], [0, 0, 0]]\n",
      "Solution found:  True [[4, 4, 1], [3, 3, 0], [4, 3, 1], [2, 2, 0], [3, 3, 1], [0, 3, 0], [0, 4, 1], [0, 1, 0], [0, 2, 1], [0, 0, 0]]\n",
      "Solution found:  True [[4, 4, 1], [3, 3, 0], [4, 3, 1], [2, 2, 0], [3, 3, 1], [0, 3, 0], [0, 4, 1], [0, 1, 0], [0, 3, 1], [0, 0, 0]]\n",
      "Solution found:  True [[4, 4, 1], [3, 3, 0], [4, 3, 1], [2, 2, 0], [3, 3, 1], [0, 3, 0], [0, 4, 1], [0, 1, 0], [1, 1, 1], [0, 0, 0]]\n",
      "Solution found:  True [[4, 4, 1], [3, 3, 0], [4, 3, 1], [2, 2, 0], [3, 3, 1], [0, 3, 0], [0, 4, 1], [0, 1, 0], [2, 2, 1], [0, 2, 0], [0, 3, 1], [0, 0, 0]]\n",
      "Solution found:  True [[4, 4, 1], [3, 3, 0], [4, 3, 1], [2, 2, 0], [4, 2, 1], [4, 0, 0], [4, 1, 1], [1, 1, 0], [2, 2, 1], [0, 2, 0], [0, 3, 1], [0, 1, 0], [0, 2, 1], [0, 0, 0]]\n",
      "Solution found:  True [[4, 4, 1], [3, 3, 0], [4, 3, 1], [2, 2, 0], [4, 2, 1], [4, 0, 0], [4, 1, 1], [1, 1, 0], [2, 2, 1], [0, 2, 0], [0, 3, 1], [0, 1, 0], [1, 1, 1], [0, 0, 0]]\n",
      "Solution found:  True [[4, 4, 1], [3, 3, 0], [4, 3, 1], [2, 2, 0], [4, 2, 1], [4, 0, 0], [4, 1, 1], [1, 1, 0], [2, 2, 1], [0, 2, 0], [0, 3, 1], [0, 0, 0]]\n",
      "Solution found:  True [[4, 4, 1], [3, 3, 0], [4, 3, 1], [2, 2, 0], [4, 2, 1], [4, 0, 0], [4, 1, 1], [1, 1, 0], [2, 2, 1], [0, 2, 0], [0, 4, 1], [0, 1, 0], [0, 2, 1], [0, 0, 0]]\n",
      "Solution found:  True [[4, 4, 1], [3, 3, 0], [4, 3, 1], [2, 2, 0], [4, 2, 1], [4, 0, 0], [4, 1, 1], [1, 1, 0], [2, 2, 1], [0, 2, 0], [0, 4, 1], [0, 1, 0], [0, 3, 1], [0, 0, 0]]\n",
      "Solution found:  True [[4, 4, 1], [3, 3, 0], [4, 3, 1], [2, 2, 0], [4, 2, 1], [4, 0, 0], [4, 1, 1], [1, 1, 0], [2, 2, 1], [0, 2, 0], [0, 4, 1], [0, 1, 0], [1, 1, 1], [0, 0, 0]]\n",
      "Solution found:  True [[4, 4, 1], [3, 3, 0], [4, 3, 1], [2, 2, 0], [4, 2, 1], [4, 0, 0], [4, 1, 1], [1, 1, 0], [2, 2, 1], [0, 1, 0], [0, 2, 1], [0, 0, 0]]\n",
      "Solution found:  True [[4, 4, 1], [3, 3, 0], [4, 3, 1], [2, 2, 0], [4, 2, 1], [4, 0, 0], [4, 1, 1], [1, 1, 0], [2, 2, 1], [0, 1, 0], [0, 3, 1], [0, 0, 0]]\n",
      "Solution found:  True [[4, 4, 1], [3, 3, 0], [4, 3, 1], [2, 2, 0], [4, 2, 1], [4, 0, 0], [4, 1, 1], [1, 1, 0], [2, 2, 1], [0, 1, 0], [0, 4, 1], [0, 2, 0], [0, 3, 1], [0, 0, 0]]\n",
      "Solution found:  True [[4, 4, 1], [3, 3, 0], [4, 3, 1], [2, 2, 0], [4, 2, 1], [4, 0, 0], [4, 1, 1], [1, 1, 0], [2, 2, 1], [0, 1, 0], [1, 1, 1], [0, 0, 0]]\n"
     ]
    },
    {
     "data": {
      "text/plain": [
       "(False, [])"
      ]
     },
     "execution_count": 10,
     "metadata": {},
     "output_type": "execute_result"
    }
   ],
   "source": [
    "max_value = 4\n",
    "boat_size = 3\n",
    "suche([4,4,1], [], all_solutions=True, debug=0)"
   ]
  }
 ],
 "metadata": {
  "kernelspec": {
   "display_name": "Python 3",
   "language": "python",
   "name": "python3"
  },
  "language_info": {
   "codemirror_mode": {
    "name": "ipython",
    "version": 3
   },
   "file_extension": ".py",
   "mimetype": "text/x-python",
   "name": "python",
   "nbconvert_exporter": "python",
   "pygments_lexer": "ipython3",
   "version": "3.6.6"
  }
 },
 "nbformat": 4,
 "nbformat_minor": 1
}
